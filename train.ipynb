{
 "cells": [
  {
   "cell_type": "code",
   "execution_count": 31,
   "metadata": {},
   "outputs": [],
   "source": [
    "import pandas as pd\n",
    "from sklearn.model_selection import train_test_split\n",
    "from sklearn.ensemble import RandomForestClassifier\n",
    "from sklearn.feature_extraction import DictVectorizer\n",
    "from sklearn.metrics import roc_auc_score\n",
    "import pickle"
   ]
  },
  {
   "cell_type": "code",
   "execution_count": 32,
   "metadata": {},
   "outputs": [],
   "source": [
    "def load_data(path):\n",
    "    df = pd.read_csv(path)\n",
    "    df.columns = df.columns.str.lower()\n",
    "    df['gender'] = df['gender'].map({0: 'male', 1: 'female'})\n",
    "    df['productcategory'] = df['productcategory'].map({0: 'electronics', 1: 'clothing', 2: 'homegoods', 3: 'beauty', 4: 'sports'})\n",
    "    df['loyaltyprogram'] = df['loyaltyprogram'].map({0: 'no', 1: 'yes'})\n",
    "    df['purchasestatus'] = df['purchasestatus'].map({0: 'no', 1: 'yes'})\n",
    "    return df"
   ]
  },
  {
   "cell_type": "code",
   "execution_count": 33,
   "metadata": {},
   "outputs": [],
   "source": [
    "def preprocess_data(df, selected_features):\n",
    "    \n",
    "    y = (df['purchasestatus'] == 'yes').astype(int).values\n",
    "    \n",
    "    df = df.drop(columns=['purchasestatus'])\n",
    "    \n",
    "    train_dicts = df.to_dict(orient='records')\n",
    "        \n",
    "    dv = DictVectorizer(sparse=False)\n",
    "    X = dv.fit_transform(train_dicts)\n",
    "    \n",
    "    feature_names = dv.get_feature_names_out()\n",
    "    selected_indices = [i for i, name in enumerate(feature_names) if name in selected_features]\n",
    "    X = X[:, selected_indices]\n",
    "    \n",
    "    return X, y, dv"
   ]
  },
  {
   "cell_type": "code",
   "execution_count": 34,
   "metadata": {},
   "outputs": [],
   "source": [
    "def train_and_evaluate(df, selected_features):\n",
    "    \n",
    "    X, y, dv = preprocess_data(df, selected_features)\n",
    "    \n",
    "    X_train, X_test, y_train, y_test = train_test_split(X, y, test_size=0.2, random_state=42)\n",
    "    X_train, X_val, y_train, y_val = train_test_split(X_train, y_train, test_size=0.25, random_state=42)\n",
    "    \n",
    "    rf = RandomForestClassifier(n_estimators=110, max_depth=15, min_samples_leaf=5, random_state=42)\n",
    "    rf.fit(X_train, y_train)\n",
    "    \n",
    "    with open('random_forest_model.pkl', 'wb') as f_out:\n",
    "        pickle.dump((rf, dv), f_out)\n",
    "    print(\"Model and DictVectorizer saved!\")"
   ]
  },
  {
   "cell_type": "code",
   "execution_count": 35,
   "metadata": {},
   "outputs": [
    {
     "name": "stdout",
     "output_type": "stream",
     "text": [
      "Model and DictVectorizer saved!\n"
     ]
    }
   ],
   "source": [
    "if __name__ == \"__main__\":\n",
    "    path = \"./customer_purchase_data.csv\"\n",
    "    selected_features = ['age', 'annualincome', 'discountsavailed', 'loyaltyprogram', 'numberofpurchases', 'timespentonwebsite']\n",
    "    df = load_data(path)\n",
    "    train_and_evaluate(df, selected_features)"
   ]
  }
 ],
 "metadata": {
  "kernelspec": {
   "display_name": "ml",
   "language": "python",
   "name": "python3"
  },
  "language_info": {
   "codemirror_mode": {
    "name": "ipython",
    "version": 3
   },
   "file_extension": ".py",
   "mimetype": "text/x-python",
   "name": "python",
   "nbconvert_exporter": "python",
   "pygments_lexer": "ipython3",
   "version": "3.11.9"
  }
 },
 "nbformat": 4,
 "nbformat_minor": 2
}
