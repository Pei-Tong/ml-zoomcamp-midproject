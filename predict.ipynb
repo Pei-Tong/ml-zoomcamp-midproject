{
 "cells": [
  {
   "cell_type": "code",
   "execution_count": 23,
   "metadata": {},
   "outputs": [],
   "source": [
    "import pickle"
   ]
  },
  {
   "cell_type": "code",
   "execution_count": 24,
   "metadata": {},
   "outputs": [],
   "source": [
    "def load_model(model_path):\n",
    "    with open(model_path, 'rb') as f_in:\n",
    "        model, dv = pickle.load(f_in)\n",
    "    return model, dv"
   ]
  },
  {
   "cell_type": "code",
   "execution_count": 25,
   "metadata": {},
   "outputs": [],
   "source": [
    "def preprocess_input(customer, dv, selected_features):\n",
    "\n",
    "    df = pd.DataFrame([customer])\n",
    "    \n",
    "    customer_dict = df.to_dict(orient='records')\n",
    "    \n",
    "    X = dv.transform(customer_dict)\n",
    "    \n",
    "    feature_names = dv.get_feature_names_out()\n",
    "    selected_indices = [i for i, name in enumerate(feature_names) if name in selected_features]\n",
    "    X_selected = X[:, selected_indices]\n",
    "    \n",
    "    return X_selected"
   ]
  },
  {
   "cell_type": "code",
   "execution_count": 26,
   "metadata": {},
   "outputs": [],
   "source": [
    "def predict_customer(customer, model, dv, selected_features):\n",
    "\n",
    "    X_customer = preprocess_input(customer, dv, selected_features)\n",
    "    \n",
    "    y_pred = model.predict_proba(X_customer)[:, 1]\n",
    "    \n",
    "    return y_pred[0]"
   ]
  },
  {
   "cell_type": "code",
   "execution_count": 27,
   "metadata": {},
   "outputs": [
    {
     "name": "stdout",
     "output_type": "stream",
     "text": [
      "Predicted churn probability: 0.120\n"
     ]
    }
   ],
   "source": [
    "if __name__ == \"__main__\":\n",
    "\n",
    "    model_path = \"./random_forest_model.pkl\"\n",
    "    \n",
    "    selected_features = ['age', 'annualincome', 'discountsavailed', 'loyaltyprogram', 'numberofpurchases', 'timespentonwebsite']\n",
    "    \n",
    "    model, dv = load_model(model_path)\n",
    "    \n",
    "    customer = {\n",
    "        'age': 47,\n",
    "        'annualincome': 125446,\n",
    "        'discountsavailed': 5,\n",
    "        'loyaltyprogram': 'no',\n",
    "        'numberofpurchases': 4,\n",
    "        'timespentonwebsite': 16\n",
    "    }\n",
    "    \n",
    "    churn_probability = predict_customer(customer, model, dv, selected_features)\n",
    "    \n",
    "    print(f\"Predicted churn probability: {churn_probability:.3f}\")"
   ]
  }
 ],
 "metadata": {
  "kernelspec": {
   "display_name": "ml",
   "language": "python",
   "name": "python3"
  },
  "language_info": {
   "codemirror_mode": {
    "name": "ipython",
    "version": 3
   },
   "file_extension": ".py",
   "mimetype": "text/x-python",
   "name": "python",
   "nbconvert_exporter": "python",
   "pygments_lexer": "ipython3",
   "version": "3.11.9"
  }
 },
 "nbformat": 4,
 "nbformat_minor": 2
}
